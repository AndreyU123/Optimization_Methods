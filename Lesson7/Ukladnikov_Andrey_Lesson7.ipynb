{
 "cells": [
  {
   "cell_type": "markdown",
   "metadata": {},
   "source": [
    "# урок 7: МО_Генетика"
   ]
  },
  {
   "cell_type": "markdown",
   "metadata": {},
   "source": [
    "ЗАДАНИЕ 1\n",
    "\n",
    "Выбрать один из алгоритмов представленных по ссылке и реализовать его.\n",
    "https://coderlessons.com/tutorials/akademicheskii/izuchite-geneticheskie-algoritmy/geneticheskie-algoritmy-krossover\n"
   ]
  },
  {
   "cell_type": "code",
   "execution_count": 1,
   "metadata": {},
   "outputs": [
    {
     "name": "stderr",
     "output_type": "stream",
     "text": [
      "C:\\Users\\Windows\\Anaconda3\\lib\\site-packages\\dask\\dataframe\\utils.py:14: FutureWarning: pandas.util.testing is deprecated. Use the functions in the public API at pandas.testing instead.\n",
      "  import pandas.util.testing as tm\n"
     ]
    }
   ],
   "source": [
    "from typing import Dict\n",
    "from copy import deepcopy\n",
    "from tqdm import tqdm\n",
    "\n",
    "import random\n",
    "import numpy as np\n",
    "import pandas as pd\n",
    "import xgboost as xgb\n",
    "\n",
    "from sklearn.metrics import roc_auc_score\n",
    "from sklearn.model_selection import train_test_split\n",
    "from IPython.display import clear_output\n",
    "\n",
    "import seaborn as sns\n",
    "import matplotlib.pyplot as plt"
   ]
  },
  {
   "cell_type": "markdown",
   "metadata": {},
   "source": [
    "**Многоточечный кроссовер**"
   ]
  },
  {
   "cell_type": "code",
   "execution_count": 53,
   "metadata": {},
   "outputs": [
    {
     "name": "stdout",
     "output_type": "stream",
     "text": [
      "[[1.00e+00 0.00e+00 1.00e-02 1.00e-02 1.00e-02]\n",
      " [3.00e+00 1.00e+00 1.50e-01 1.50e-01 1.01e+00]\n",
      " [5.00e+00 2.00e+00 2.90e-01 2.90e-01 2.01e+00]\n",
      " [7.00e+00 3.00e+00 4.30e-01 4.30e-01 3.01e+00]\n",
      " [9.00e+00 4.00e+00 5.70e-01 5.70e-01 4.01e+00]\n",
      " [1.10e+01 5.00e+00 7.10e-01 7.10e-01 5.01e+00]\n",
      " [1.30e+01 6.00e+00 8.50e-01 8.50e-01 6.01e+00]\n",
      " [1.50e+01 7.00e+00 9.90e-01 9.90e-01 7.01e+00]]\n"
     ]
    }
   ],
   "source": [
    "num_parents=8\n",
    "\n",
    "features_count=5\n",
    "number_of_parents_mating=4\n",
    "parents = np.zeros((\n",
    "        num_parents, features_count\n",
    "    ))\n",
    "\n",
    "\n",
    "parents[:, 0] = np.arange(1, 16, 2) #  max_depth column \n",
    "parents[:, 1] = np.arange(0, 8, 1) #  min_child_weight column\n",
    "parents[:, 2] =  np.arange(0.01, 1, 0.14) #  subsample column\n",
    "parents[:, 3] =  np.arange(0.01, 1, 0.14) #  colsample_bytree column\n",
    "parents[:, 4] =  np.arange(0.01, 8, 1) #  gamma column\n",
    "\n",
    "print(parents)\n",
    "children_size=(num_parents,features_count)"
   ]
  },
  {
   "cell_type": "code",
   "execution_count": 81,
   "metadata": {},
   "outputs": [],
   "source": [
    "def crossover_many_points(parents, children_size):\n",
    "    \"\"\"\n",
    "    Многоточечный кроссовер — это обобщение одноточечного кроссовера,\n",
    "    в котором чередующиеся сегменты меняются местами для получения новых выходных пружин.\n",
    "    \"\"\"\n",
    "    idx_1 = np.random.randint(\n",
    "        0, np.uint8(children_size[1]), 1)[0]\n",
    "    \n",
    "    idx_2 = np.random.randint(\n",
    "        0, np.uint8(children_size[1]), 1)[0]\n",
    "    \n",
    "    \n",
    "    children = np.empty(children_size)\n",
    "    \n",
    "    print(idx_1)\n",
    "    print(idx_2)\n",
    "    \n",
    "\n",
    "    for i in range(children_size[0]):\n",
    "        parent1_idx = i % parents.shape[0]\n",
    "        parent2_idx = (i+1) % parents.shape[0]\n",
    "                \n",
    "        for j in range(children_size[1]):\n",
    "            if idx_1+1 < idx_2:\n",
    "                if j <= idx_1 or j >= idx_2:\n",
    "                    children[i, j] = parents[parent1_idx, j]\n",
    "                else:            \n",
    "                    children[i, j] = parents[parent2_idx, j]\n",
    "            elif idx_2+1 < idx_1:\n",
    "                if j <= idx_2 or j >= idx_1:\n",
    "                    children[i, j] = parents[parent1_idx, j]\n",
    "                else:            \n",
    "                    children[i, j] = parents[parent2_idx, j]\n",
    "            else:\n",
    "                if j <= idx_2:\n",
    "                    children[i, j] = parents[parent1_idx, j]\n",
    "                else:            \n",
    "                    children[i, j] = parents[parent2_idx, j]\n",
    "            \n",
    "\n",
    "    return children"
   ]
  },
  {
   "cell_type": "code",
   "execution_count": 82,
   "metadata": {},
   "outputs": [
    {
     "name": "stdout",
     "output_type": "stream",
     "text": [
      "1\n",
      "4\n"
     ]
    },
    {
     "data": {
      "text/plain": [
       "array([[1.00e+00, 0.00e+00, 1.50e-01, 1.50e-01, 1.00e-02],\n",
       "       [3.00e+00, 1.00e+00, 2.90e-01, 2.90e-01, 1.01e+00],\n",
       "       [5.00e+00, 2.00e+00, 4.30e-01, 4.30e-01, 2.01e+00],\n",
       "       [7.00e+00, 3.00e+00, 5.70e-01, 5.70e-01, 3.01e+00],\n",
       "       [9.00e+00, 4.00e+00, 7.10e-01, 7.10e-01, 4.01e+00],\n",
       "       [1.10e+01, 5.00e+00, 8.50e-01, 8.50e-01, 5.01e+00],\n",
       "       [1.30e+01, 6.00e+00, 9.90e-01, 9.90e-01, 6.01e+00],\n",
       "       [1.50e+01, 7.00e+00, 1.00e-02, 1.00e-02, 7.01e+00]])"
      ]
     },
     "execution_count": 82,
     "metadata": {},
     "output_type": "execute_result"
    }
   ],
   "source": [
    "crossover_many_points(parents, children_size)"
   ]
  },
  {
   "cell_type": "code",
   "execution_count": null,
   "metadata": {},
   "outputs": [],
   "source": []
  }
 ],
 "metadata": {
  "kernelspec": {
   "display_name": "Python 3",
   "language": "python",
   "name": "python3"
  },
  "language_info": {
   "codemirror_mode": {
    "name": "ipython",
    "version": 3
   },
   "file_extension": ".py",
   "mimetype": "text/x-python",
   "name": "python",
   "nbconvert_exporter": "python",
   "pygments_lexer": "ipython3",
   "version": "3.7.4"
  }
 },
 "nbformat": 4,
 "nbformat_minor": 2
}
